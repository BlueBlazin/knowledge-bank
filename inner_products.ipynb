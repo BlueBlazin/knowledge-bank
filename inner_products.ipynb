{
 "cells": [
  {
   "cell_type": "markdown",
   "source": [
    "# Dot Product\n",
    "\n",
    "Dot products in $\\R^n$ can be defined by\n",
    "\n",
    "$$\n",
    "x^\\top y = \\sum\\limits_{i=1}^n x_i y_i.\n",
    "$$"
   ],
   "metadata": {}
  },
  {
   "cell_type": "code",
   "execution_count": 1,
   "source": [
    "def dot(x: list[float], y: list[float]) -> float:\n",
    "    if len(x) != len(y):\n",
    "        raise Exception(\"inputs must have identical lengths\")\n",
    "\n",
    "    return sum(x[i] * y[i] for i in range(len(x)))"
   ],
   "outputs": [],
   "metadata": {}
  },
  {
   "cell_type": "markdown",
   "source": [
    "# Generalized Inner Product"
   ],
   "metadata": {}
  },
  {
   "cell_type": "markdown",
   "source": [
    "## Bilinear mapping\n",
    "\n",
    "A bilinear mapping $\\Omega$ is a mapping with two arguments and is linear in both.\n",
    "\n",
    "Given vector space $V$ and $\\mathbf{x}, \\mathbf{y}, \\mathbf{z} \\in V, \\:\\: \\lambda, \\psi \\in \\R$,\n",
    "\n",
    "$\\Omega(\\lambda \\mathbf{x} + \\psi \\mathbf{y}, \\mathbf{z}) = \\lambda \\Omega(\\mathbf{x}, \\mathbf{z}) + \\psi \\Omega(\\mathbf{y}, \\mathbf{z})$,\n",
    "\n",
    "$\\Omega(\\mathbf{x}, \\lambda \\mathbf{y} + \\psi \\mathbf{z}) = \\lambda \\Omega(\\mathbf{x}, \\mathbf{y}) + \\psi \\Omega(\\mathbf{x}, \\mathbf{z})$."
   ],
   "metadata": {}
  },
  {
   "cell_type": "markdown",
   "source": [
    "## Symmetric Bilinear Mapping\n",
    "\n",
    "Let $V$ be a vector space and $\\Omega : V \\times V \\rightarrow \\R$ be a bilinear mapping.\n",
    "\n",
    "$\\Omega$ is symmetric if $\\Omega(\\mathbf{x}, \\mathbf{y}) = \\Omega(\\mathbf{y}, \\mathbf{x})$ for all $\\mathbf{x}, \\mathbf{y} \\in V$."
   ],
   "metadata": {}
  },
  {
   "cell_type": "markdown",
   "source": [
    "## Positive Definite Mapping\n",
    "\n",
    "Let $V$ be a vector space and $\\Omega : V \\times V \\rightarrow \\R$ be a bilinear mapping.\n",
    "\n",
    "$\\Omega$ is positive definite if\n",
    "\n",
    "$\\forall x \\in V \\setminus \\{0\\} : \\Omega(\\mathbf{x}, \\mathbf{y}) > 0, \\:\\: \\Omega(\\mathbf{0}, \\mathbf{0}) = 0$."
   ],
   "metadata": {}
  },
  {
   "cell_type": "markdown",
   "source": [
    "Let $V$ be a vector space and $\\Omega : V \\times V \\rightarrow \\R$ be a bilinear mapping from two vectors in $V$ to $\\R$.\n",
    "\n",
    "A symmetric, positive definite bilinear mapping $\\Omega : V \\times V \\rightarrow \\R$ is called an **inner product**. It's usually written as $\\langle \\mathbf{x}, \\mathbf{y} \\rangle$."
   ],
   "metadata": {}
  },
  {
   "cell_type": "markdown",
   "source": [
    "# Inner Product Summary\n",
    "\n",
    "**Inner products are symmetric:**\n",
    "\n",
    "$\\langle \\mathbf{x}, \\mathbf{y} \\rangle = \\langle \\mathbf{y}, \\mathbf{x} \\rangle$.\n",
    "\n",
    "\n",
    "**Inner products are positive definite:**\n",
    "\n",
    "$\\langle \\mathbf{x}, \\mathbf{x} \\rangle \\geq 0$, with equality only if $\\mathbf{x} = \\mathbf{0}$."
   ],
   "metadata": {}
  }
 ],
 "metadata": {
  "orig_nbformat": 4,
  "language_info": {
   "name": "python",
   "version": "3.9.6",
   "mimetype": "text/x-python",
   "codemirror_mode": {
    "name": "ipython",
    "version": 3
   },
   "pygments_lexer": "ipython3",
   "nbconvert_exporter": "python",
   "file_extension": ".py"
  },
  "kernelspec": {
   "name": "python3",
   "display_name": "Python 3.10.0rc1 64-bit ('env': venv)"
  },
  "interpreter": {
   "hash": "a28ed02d31e3184e96d2d6217417c8734db31ca220902853ae093d389200a7ed"
  }
 },
 "nbformat": 4,
 "nbformat_minor": 2
}